{
 "cells": [
  {
   "attachments": {},
   "cell_type": "markdown",
   "metadata": {},
   "source": [
    "# plot Q  matrix - discrete state\n",
    "\n",
    "JMA 11 Jun 2023"
   ]
  },
  {
   "cell_type": "code",
   "execution_count": 7,
   "metadata": {},
   "outputs": [
    {
     "data": {
      "text/plain": [
       "['../Q_162-08-28-heatmap.png', '../Q_162-08-05_policyheatmap.png']"
      ]
     },
     "execution_count": 7,
     "metadata": {},
     "output_type": "execute_result"
    }
   ],
   "source": [
    "import os, sys, math, glob\n",
    "import numpy as np\n",
    "import pandas as pd\n",
    "import seaborn as sns\n",
    "glob.glob('../Q*')\n",
    "# os.getcwd()"
   ]
  },
  {
   "cell_type": "code",
   "execution_count": 8,
   "metadata": {},
   "outputs": [
    {
     "data": {
      "text/html": [
       "<div>\n",
       "<style scoped>\n",
       "    .dataframe tbody tr th:only-of-type {\n",
       "        vertical-align: middle;\n",
       "    }\n",
       "\n",
       "    .dataframe tbody tr th {\n",
       "        vertical-align: top;\n",
       "    }\n",
       "\n",
       "    .dataframe thead th {\n",
       "        text-align: right;\n",
       "    }\n",
       "</style>\n",
       "<table border=\"1\" class=\"dataframe\">\n",
       "  <thead>\n",
       "    <tr style=\"text-align: right;\">\n",
       "      <th></th>\n",
       "      <th>0.0</th>\n",
       "      <th>0.1</th>\n",
       "      <th>0.2</th>\n",
       "      <th>0.3</th>\n",
       "      <th>0.4</th>\n",
       "      <th>0.5</th>\n",
       "      <th>0.6</th>\n",
       "      <th>0.7</th>\n",
       "      <th>0.8</th>\n",
       "      <th>0.9</th>\n",
       "      <th>1.0</th>\n",
       "      <th>1.1</th>\n",
       "      <th>1.2</th>\n",
       "    </tr>\n",
       "  </thead>\n",
       "  <tbody>\n",
       "    <tr>\n",
       "      <th>0.0</th>\n",
       "      <td>-0.415174</td>\n",
       "      <td>-0.343019</td>\n",
       "      <td>-0.374937</td>\n",
       "      <td>-0.435851</td>\n",
       "      <td>-0.325807</td>\n",
       "      <td>-0.401180</td>\n",
       "      <td>-0.519799</td>\n",
       "      <td>-0.426522</td>\n",
       "      <td>-0.186537</td>\n",
       "      <td>-0.384505</td>\n",
       "      <td>-0.325429</td>\n",
       "      <td>-0.495639</td>\n",
       "      <td>-0.326694</td>\n",
       "    </tr>\n",
       "    <tr>\n",
       "      <th>10.0</th>\n",
       "      <td>2.302249</td>\n",
       "      <td>2.461595</td>\n",
       "      <td>10.045508</td>\n",
       "      <td>3.692293</td>\n",
       "      <td>2.867239</td>\n",
       "      <td>3.295601</td>\n",
       "      <td>2.874189</td>\n",
       "      <td>3.584515</td>\n",
       "      <td>3.314113</td>\n",
       "      <td>3.288239</td>\n",
       "      <td>3.275400</td>\n",
       "      <td>2.072745</td>\n",
       "      <td>3.221804</td>\n",
       "    </tr>\n",
       "    <tr>\n",
       "      <th>20.0</th>\n",
       "      <td>8.645387</td>\n",
       "      <td>20.986946</td>\n",
       "      <td>8.591903</td>\n",
       "      <td>9.645376</td>\n",
       "      <td>6.762462</td>\n",
       "      <td>7.931894</td>\n",
       "      <td>9.549433</td>\n",
       "      <td>8.339734</td>\n",
       "      <td>8.567381</td>\n",
       "      <td>8.971618</td>\n",
       "      <td>7.142744</td>\n",
       "      <td>9.056109</td>\n",
       "      <td>9.288991</td>\n",
       "    </tr>\n",
       "    <tr>\n",
       "      <th>30.0</th>\n",
       "      <td>10.165946</td>\n",
       "      <td>9.915522</td>\n",
       "      <td>9.275577</td>\n",
       "      <td>10.548156</td>\n",
       "      <td>12.743988</td>\n",
       "      <td>10.417915</td>\n",
       "      <td>10.356587</td>\n",
       "      <td>10.044619</td>\n",
       "      <td>8.671251</td>\n",
       "      <td>29.952557</td>\n",
       "      <td>7.907048</td>\n",
       "      <td>9.094380</td>\n",
       "      <td>10.130175</td>\n",
       "    </tr>\n",
       "    <tr>\n",
       "      <th>40.0</th>\n",
       "      <td>21.657984</td>\n",
       "      <td>24.083657</td>\n",
       "      <td>17.053653</td>\n",
       "      <td>14.328210</td>\n",
       "      <td>19.456133</td>\n",
       "      <td>14.584638</td>\n",
       "      <td>18.121865</td>\n",
       "      <td>14.913578</td>\n",
       "      <td>36.490234</td>\n",
       "      <td>17.333563</td>\n",
       "      <td>14.992883</td>\n",
       "      <td>19.653746</td>\n",
       "      <td>9.151563</td>\n",
       "    </tr>\n",
       "  </tbody>\n",
       "</table>\n",
       "</div>"
      ],
      "text/plain": [
       "            0.0        0.1        0.2        0.3        0.4        0.5  \\\n",
       "0.0   -0.415174  -0.343019  -0.374937  -0.435851  -0.325807  -0.401180   \n",
       "10.0   2.302249   2.461595  10.045508   3.692293   2.867239   3.295601   \n",
       "20.0   8.645387  20.986946   8.591903   9.645376   6.762462   7.931894   \n",
       "30.0  10.165946   9.915522   9.275577  10.548156  12.743988  10.417915   \n",
       "40.0  21.657984  24.083657  17.053653  14.328210  19.456133  14.584638   \n",
       "\n",
       "            0.6        0.7        0.8        0.9        1.0        1.1  \\\n",
       "0.0   -0.519799  -0.426522  -0.186537  -0.384505  -0.325429  -0.495639   \n",
       "10.0   2.874189   3.584515   3.314113   3.288239   3.275400   2.072745   \n",
       "20.0   9.549433   8.339734   8.567381   8.971618   7.142744   9.056109   \n",
       "30.0  10.356587  10.044619   8.671251  29.952557   7.907048   9.094380   \n",
       "40.0  18.121865  14.913578  36.490234  17.333563  14.992883  19.653746   \n",
       "\n",
       "            1.2  \n",
       "0.0   -0.326694  \n",
       "10.0   3.221804  \n",
       "20.0   9.288991  \n",
       "30.0  10.130175  \n",
       "40.0   9.151563  "
      ]
     },
     "execution_count": 8,
     "metadata": {},
     "output_type": "execute_result"
    }
   ],
   "source": [
    "Q = pd.read_csv('../stage/Q0.2_0.999_0.5_163-14-46.csv', index_col=0)\n",
    "Q.head()"
   ]
  },
  {
   "cell_type": "code",
   "execution_count": 9,
   "metadata": {},
   "outputs": [
    {
     "data": {
      "text/plain": [
       "0.0      0.8\n",
       "10.0     0.2\n",
       "20.0     0.1\n",
       "30.0     0.9\n",
       "40.0     0.8\n",
       "50.0     0.3\n",
       "60.0     0.6\n",
       "70.0     0.8\n",
       "80.0     0.2\n",
       "90.0     0.3\n",
       "100.0    0.4\n",
       "110.0    0.1\n",
       "120.0    1.1\n",
       "dtype: object"
      ]
     },
     "execution_count": 9,
     "metadata": {},
     "output_type": "execute_result"
    }
   ],
   "source": [
    "def policy(Q):\n",
    "    'Find the column with the highest value'\n",
    "    return Q.idxmax(axis=1)\n",
    "\n",
    "policy(Q)"
   ]
  },
  {
   "cell_type": "code",
   "execution_count": 10,
   "metadata": {},
   "outputs": [
    {
     "data": {
      "image/png": "[encoded data removed]",
      "text/plain": [
       "<Figure size 432x288 with 2 Axes>"
      ]
     },
     "metadata": {
      "needs_background": "light"
     },
     "output_type": "display_data"
    }
   ],
   "source": [
    "ax = sns.heatmap(Q)\n"
   ]
  },
  {
   "cell_type": "code",
   "execution_count": null,
   "metadata": {},
   "outputs": [],
   "source": []
  }
 ],
 "metadata": {
  "kernelspec": {
   "display_name": "base",
   "language": "python",
   "name": "python3"
  },
  "language_info": {
   "codemirror_mode": {
    "name": "ipython",
    "version": 3
   },
   "file_extension": ".py",
   "mimetype": "text/x-python",
   "name": "python",
   "nbconvert_exporter": "python",
   "pygments_lexer": "ipython3",
   "version": "3.9.5"
  },
  "orig_nbformat": 4
 },
 "nbformat": 4,
 "nbformat_minor": 2
}
