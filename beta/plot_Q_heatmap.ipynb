{
 "cells": [
  {
   "attachments": {},
   "cell_type": "markdown",
   "metadata": {},
   "source": [
    "# plot Q  matrix - discrete state\n",
    "\n",
    "JMA 11 Jun 2023"
   ]
  },
  {
   "cell_type": "code",
   "execution_count": 14,
   "metadata": {},
   "outputs": [
    {
     "data": {
      "text/plain": [
       "['../Q_qlearn_162-07-55.csv',\n",
       " '../Q_162-08-05_policyheatmap.png',\n",
       " '../Q_qlearn_162-07-49.csv',\n",
       " '../Q_qlearn_162-07-32.csv',\n",
       " '../Q_qlearn_162-08-28.csv',\n",
       " '../Q_qlearn_162-08-05.csv',\n",
       " '../Q_qlearn_162-07-42.csv']"
      ]
     },
     "execution_count": 14,
     "metadata": {},
     "output_type": "execute_result"
    }
   ],
   "source": [
    "import os, sys, math, glob\n",
    "import numpy as np\n",
    "import pandas as pd\n",
    "import seaborn as sns\n",
    "glob.glob('../Q*')\n",
    "# os.getcwd()"
   ]
  },
  {
   "cell_type": "code",
   "execution_count": 15,
   "metadata": {},
   "outputs": [
    {
     "data": {
      "text/html": [
       "<div>\n",
       "<style scoped>\n",
       "    .dataframe tbody tr th:only-of-type {\n",
       "        vertical-align: middle;\n",
       "    }\n",
       "\n",
       "    .dataframe tbody tr th {\n",
       "        vertical-align: top;\n",
       "    }\n",
       "\n",
       "    .dataframe thead th {\n",
       "        text-align: right;\n",
       "    }\n",
       "</style>\n",
       "<table border=\"1\" class=\"dataframe\">\n",
       "  <thead>\n",
       "    <tr style=\"text-align: right;\">\n",
       "      <th></th>\n",
       "      <th>0.0</th>\n",
       "      <th>0.1</th>\n",
       "      <th>0.2</th>\n",
       "      <th>0.3</th>\n",
       "      <th>0.4</th>\n",
       "      <th>0.5</th>\n",
       "      <th>0.6</th>\n",
       "      <th>0.7</th>\n",
       "      <th>0.8</th>\n",
       "      <th>0.9</th>\n",
       "      <th>1.0</th>\n",
       "      <th>1.1</th>\n",
       "      <th>1.2</th>\n",
       "    </tr>\n",
       "  </thead>\n",
       "  <tbody>\n",
       "    <tr>\n",
       "      <th>0.0</th>\n",
       "      <td>2.231693</td>\n",
       "      <td>23.895266</td>\n",
       "      <td>2.306111</td>\n",
       "      <td>0.804784</td>\n",
       "      <td>1.766561</td>\n",
       "      <td>-0.565722</td>\n",
       "      <td>1.820179</td>\n",
       "      <td>2.731831</td>\n",
       "      <td>1.555961</td>\n",
       "      <td>1.668065</td>\n",
       "      <td>-0.513742</td>\n",
       "      <td>2.864020</td>\n",
       "      <td>1.096747</td>\n",
       "    </tr>\n",
       "    <tr>\n",
       "      <th>10.0</th>\n",
       "      <td>2.745440</td>\n",
       "      <td>6.164473</td>\n",
       "      <td>7.768154</td>\n",
       "      <td>4.842289</td>\n",
       "      <td>-0.377577</td>\n",
       "      <td>3.459904</td>\n",
       "      <td>4.257576</td>\n",
       "      <td>6.718262</td>\n",
       "      <td>9.542870</td>\n",
       "      <td>2.756193</td>\n",
       "      <td>9.363612</td>\n",
       "      <td>32.020049</td>\n",
       "      <td>3.792635</td>\n",
       "    </tr>\n",
       "    <tr>\n",
       "      <th>20.0</th>\n",
       "      <td>15.308791</td>\n",
       "      <td>19.588712</td>\n",
       "      <td>5.700326</td>\n",
       "      <td>23.960309</td>\n",
       "      <td>9.623444</td>\n",
       "      <td>8.574248</td>\n",
       "      <td>16.078822</td>\n",
       "      <td>14.722784</td>\n",
       "      <td>21.545373</td>\n",
       "      <td>13.169101</td>\n",
       "      <td>15.105387</td>\n",
       "      <td>16.483864</td>\n",
       "      <td>36.519708</td>\n",
       "    </tr>\n",
       "    <tr>\n",
       "      <th>30.0</th>\n",
       "      <td>8.632299</td>\n",
       "      <td>14.455517</td>\n",
       "      <td>10.888915</td>\n",
       "      <td>36.593751</td>\n",
       "      <td>10.288154</td>\n",
       "      <td>11.730775</td>\n",
       "      <td>2.311005</td>\n",
       "      <td>2.051807</td>\n",
       "      <td>5.626880</td>\n",
       "      <td>5.503486</td>\n",
       "      <td>9.269677</td>\n",
       "      <td>10.508027</td>\n",
       "      <td>11.929332</td>\n",
       "    </tr>\n",
       "    <tr>\n",
       "      <th>40.0</th>\n",
       "      <td>9.619711</td>\n",
       "      <td>14.864630</td>\n",
       "      <td>33.139223</td>\n",
       "      <td>1.458041</td>\n",
       "      <td>17.856364</td>\n",
       "      <td>-0.399579</td>\n",
       "      <td>6.524520</td>\n",
       "      <td>2.666614</td>\n",
       "      <td>12.658384</td>\n",
       "      <td>8.386632</td>\n",
       "      <td>0.535375</td>\n",
       "      <td>5.910471</td>\n",
       "      <td>16.061445</td>\n",
       "    </tr>\n",
       "  </tbody>\n",
       "</table>\n",
       "</div>"
      ],
      "text/plain": [
       "            0.0        0.1        0.2        0.3        0.4        0.5  \\\n",
       "0.0    2.231693  23.895266   2.306111   0.804784   1.766561  -0.565722   \n",
       "10.0   2.745440   6.164473   7.768154   4.842289  -0.377577   3.459904   \n",
       "20.0  15.308791  19.588712   5.700326  23.960309   9.623444   8.574248   \n",
       "30.0   8.632299  14.455517  10.888915  36.593751  10.288154  11.730775   \n",
       "40.0   9.619711  14.864630  33.139223   1.458041  17.856364  -0.399579   \n",
       "\n",
       "            0.6        0.7        0.8        0.9        1.0        1.1  \\\n",
       "0.0    1.820179   2.731831   1.555961   1.668065  -0.513742   2.864020   \n",
       "10.0   4.257576   6.718262   9.542870   2.756193   9.363612  32.020049   \n",
       "20.0  16.078822  14.722784  21.545373  13.169101  15.105387  16.483864   \n",
       "30.0   2.311005   2.051807   5.626880   5.503486   9.269677  10.508027   \n",
       "40.0   6.524520   2.666614  12.658384   8.386632   0.535375   5.910471   \n",
       "\n",
       "            1.2  \n",
       "0.0    1.096747  \n",
       "10.0   3.792635  \n",
       "20.0  36.519708  \n",
       "30.0  11.929332  \n",
       "40.0  16.061445  "
      ]
     },
     "execution_count": 15,
     "metadata": {},
     "output_type": "execute_result"
    }
   ],
   "source": [
    "Q = pd.read_csv('../Q_qlearn_162-08-05.csv', index_col=0)\n",
    "Q.head()"
   ]
  },
  {
   "cell_type": "code",
   "execution_count": 16,
   "metadata": {},
   "outputs": [
    {
     "data": {
      "text/plain": [
       "0.0      0.1\n",
       "10.0     1.1\n",
       "20.0     1.2\n",
       "30.0     0.3\n",
       "40.0     0.2\n",
       "50.0     0.5\n",
       "60.0     0.1\n",
       "70.0     0.9\n",
       "80.0     1.2\n",
       "90.0     0.9\n",
       "100.0    0.2\n",
       "110.0    0.9\n",
       "120.0    0.2\n",
       "dtype: object"
      ]
     },
     "execution_count": 16,
     "metadata": {},
     "output_type": "execute_result"
    }
   ],
   "source": [
    "def policy(Q):\n",
    "    'Find the column with the highest value'\n",
    "    return Q.idxmax(axis=1)\n",
    "\n",
    "policy(Q)"
   ]
  },
  {
   "cell_type": "code",
   "execution_count": 17,
   "metadata": {},
   "outputs": [
    {
     "data": {
      "image/png": "[encoded data removed]",
      "text/plain": [
       "<Figure size 432x288 with 2 Axes>"
      ]
     },
     "metadata": {
      "needs_background": "light"
     },
     "output_type": "display_data"
    }
   ],
   "source": [
    "ax = sns.heatmap(Q)\n"
   ]
  }
 ],
 "metadata": {
  "kernelspec": {
   "display_name": "base",
   "language": "python",
   "name": "python3"
  },
  "language_info": {
   "codemirror_mode": {
    "name": "ipython",
    "version": 3
   },
   "file_extension": ".py",
   "mimetype": "text/x-python",
   "name": "python",
   "nbconvert_exporter": "python",
   "pygments_lexer": "ipython3",
   "version": "3.9.5"
  },
  "orig_nbformat": 4
 },
 "nbformat": 4,
 "nbformat_minor": 2
}
