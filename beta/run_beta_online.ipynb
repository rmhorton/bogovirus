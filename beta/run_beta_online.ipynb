{
 "cells": [
  {
   "attachments": {},
   "cell_type": "markdown",
   "metadata": {},
   "source": [
    "# Generate a simulation of a population by running envs_beta/BogoBetaEnv  environment\n",
    "\n",
    "JMA 14 March 2023\n",
    "\n",
    "See also `generate_primary_sim.py`"
   ]
  },
  {
   "cell_type": "code",
   "execution_count": 4,
   "metadata": {},
   "outputs": [],
   "source": [
    "%reload_ext autoreload\n",
    "%autoreload 2\n",
    "import math, os, re, sys\n",
    "from pathlib import Path\n",
    "import pandas as pd\n",
    "import numpy as np\n",
    "\n",
    "sys.path.append('./benvs/policies')\n",
    "\n",
    "from BogoPolicies import BogoPolicies"
   ]
  },
  {
   "cell_type": "code",
   "execution_count": 4,
   "metadata": {},
   "outputs": [],
   "source": [
    "### Use this policy for test\n",
    "\n",
    "MAX_DOSE = 0.7 \n",
    "VERBOSE = 0\n",
    "PATIENTS = 1000\n",
    "# Moved to BogoPolicies.py\n",
    "# def randomized_const_policy(yesterday, today):  # default policy\n",
    "#     dose = BogoPolicies.my_rng.uniform(low=0, high=MAX_DOSE, size=1)[0]\n",
    "#     if VERBOSE: print(f'chohort dose: {dose:.3}')\n",
    "#     return dose\n",
    "   \n",
    "\n",
    "### a test run\n",
    "def test_patient_run(env, policy):\n",
    "    ''\n",
    "    record_df = pd.DataFrame()\n",
    "    for p in range(PATIENTS):\n",
    "        # Create a patient with a random Id. \n",
    "        the_patient = BogoPolicies.my_rng.integers(low=0, high=100000, size=1)[0]\n",
    "        observation, info = env.reset(id_serial= the_patient)\n",
    "        print('\\tpatient: ', the_patient)\n",
    "        for _ in range(BogoPolicies.MAX_DAYS):\n",
    "            observation, reward, terminated, info = env.step(policy)\n",
    "            if VERBOSE == 2: \n",
    "                print(env.today)\n",
    "            elif VERBOSE == 1:\n",
    "                print(f'i: {info} # obs: {env.get_observation()}, R: {reward}, end? {terminated}' )\n",
    "            else:\n",
    "                pass\n",
    "            if terminated:\n",
    "                break\n",
    "        episode_df, total_reward = env.close()\n",
    "        print(f'reward {total_reward}')\n",
    "        record_df = pd.concat([record_df, episode_df])\n",
    "    return record_df\n",
    "\n",
    "def run_stats(rdf):\n",
    "    'Extract the dose-respose curve from the patient episodes'\n",
    "    # For each patient run \n",
    "    print(rdf.groupby('patient_id').mean('dose'))\n",
    "    \n",
    "        \n"
   ]
  },
  {
   "cell_type": "code",
   "execution_count": 5,
   "metadata": {},
   "outputs": [
    {
     "ename": "AttributeError",
     "evalue": "'BogoPolicies' object has no attribute 'NUM_COHORTS'",
     "output_type": "error",
     "traceback": [
      "\u001b[0;31m---------------------------------------------------------------------------\u001b[0m",
      "\u001b[0;31mAttributeError\u001b[0m                            Traceback (most recent call last)",
      "\u001b[0;32m/tmp/ipykernel_23182/234831164.py\u001b[0m in \u001b[0;36m<module>\u001b[0;34m\u001b[0m\n\u001b[1;32m      1\u001b[0m \u001b[0;31m# All const policies test\u001b[0m\u001b[0;34m\u001b[0m\u001b[0;34m\u001b[0m\u001b[0;34m\u001b[0m\u001b[0m\n\u001b[1;32m      2\u001b[0m \u001b[0mbogo_env\u001b[0m \u001b[0;34m=\u001b[0m \u001b[0mBogoPolicies\u001b[0m\u001b[0;34m(\u001b[0m\u001b[0;34m)\u001b[0m\u001b[0;34m\u001b[0m\u001b[0;34m\u001b[0m\u001b[0m\n\u001b[0;32m----> 3\u001b[0;31m \u001b[0mprint\u001b[0m\u001b[0;34m(\u001b[0m\u001b[0;34mf'n cohorts {bogo_env.NUM_COHORTS}'\u001b[0m\u001b[0;34m)\u001b[0m\u001b[0;34m\u001b[0m\u001b[0;34m\u001b[0m\u001b[0m\n\u001b[0m\u001b[1;32m      4\u001b[0m \u001b[0mdf\u001b[0m \u001b[0;34m=\u001b[0m \u001b[0mtest_patient_run\u001b[0m\u001b[0;34m(\u001b[0m\u001b[0mbogo_env\u001b[0m\u001b[0;34m,\u001b[0m \u001b[0mbogo_env\u001b[0m\u001b[0;34m.\u001b[0m\u001b[0mdose_cohort_policy\u001b[0m\u001b[0;34m)\u001b[0m\u001b[0;34m\u001b[0m\u001b[0;34m\u001b[0m\u001b[0m\n\u001b[1;32m      5\u001b[0m \u001b[0;31m#df.to_csv('cohort_const.csv', header=True,  index=False)\u001b[0m\u001b[0;34m\u001b[0m\u001b[0;34m\u001b[0m\u001b[0;34m\u001b[0m\u001b[0m\n",
      "\u001b[0;31mAttributeError\u001b[0m: 'BogoPolicies' object has no attribute 'NUM_COHORTS'"
     ]
    }
   ],
   "source": [
    "# All const policies test\n",
    "bogo_env = BogoPolicies()\n",
    "print(f'n cohorts {bogo_env.NUM_COHORTS}')\n",
    "df = test_patient_run(bogo_env, bogo_env.dose_cohort_policy)\n",
    "#df.to_csv('cohort_const.csv', header=True,  index=False)\n",
    "print(run_stats(df))\n",
    "print(f'DONE! - record cnt {df.shape[0]}')\n",
    "    "
   ]
  },
  {
   "cell_type": "code",
   "execution_count": 6,
   "metadata": {},
   "outputs": [
    {
     "data": {
      "text/plain": [
       "[<matplotlib.lines.Line2D at 0x7fd07dce7610>]"
      ]
     },
     "execution_count": 6,
     "metadata": {},
     "output_type": "execute_result"
    },
    {
     "data": {
      "image/png": "[encoded data removed]",
      "text/plain": [
       "<Figure size 432x288 with 1 Axes>"
      ]
     },
     "metadata": {
      "needs_background": "light"
     },
     "output_type": "display_data"
    }
   ],
   "source": [
    "import matplotlib.pyplot as plt\n",
    "\n",
    "xavg = df.groupby('cohort').mean()\n",
    "xavg.sort_values('drug', inplace=True)\n",
    "# xmax = df.groupby('cohort').max()\n",
    "# xmin = df.groupby('cohort').min()\n",
    "\n",
    "#plt.plot(xmax['drug'], xmax['reward'], color = 'black')\n",
    "plt.plot(xavg['drug'], xavg['reward'], color = 'red')\n",
    "# plt.plot(xmin['drug'], xmin['reward'], color = 'blue')"
   ]
  },
  {
   "cell_type": "code",
   "execution_count": 6,
   "metadata": {},
   "outputs": [
    {
     "ename": "AttributeError",
     "evalue": "'BogoPolicies' object has no attribute 'NUM_COHORTS'",
     "output_type": "error",
     "traceback": [
      "\u001b[0;31m---------------------------------------------------------------------------\u001b[0m",
      "\u001b[0;31mAttributeError\u001b[0m                            Traceback (most recent call last)",
      "\u001b[0;32m/tmp/ipykernel_23182/1775269965.py\u001b[0m in \u001b[0;36m<module>\u001b[0;34m\u001b[0m\n\u001b[1;32m      1\u001b[0m \u001b[0mbogo_env\u001b[0m \u001b[0;34m=\u001b[0m \u001b[0mBogoPolicies\u001b[0m\u001b[0;34m(\u001b[0m\u001b[0;34m)\u001b[0m\u001b[0;34m\u001b[0m\u001b[0;34m\u001b[0m\u001b[0m\n\u001b[0;32m----> 2\u001b[0;31m \u001b[0mprint\u001b[0m\u001b[0;34m(\u001b[0m\u001b[0;34mf'n cohorts {bogo_env.NUM_COHORTS}'\u001b[0m\u001b[0;34m)\u001b[0m\u001b[0;34m\u001b[0m\u001b[0;34m\u001b[0m\u001b[0m\n\u001b[0m\u001b[1;32m      3\u001b[0m \u001b[0mdf\u001b[0m \u001b[0;34m=\u001b[0m \u001b[0mtest_patient_run\u001b[0m\u001b[0;34m(\u001b[0m\u001b[0mbogo_env\u001b[0m\u001b[0;34m,\u001b[0m \u001b[0mbogo_env\u001b[0m\u001b[0;34m.\u001b[0m\u001b[0mstandard_of_care_policy\u001b[0m\u001b[0;34m)\u001b[0m\u001b[0;34m\u001b[0m\u001b[0;34m\u001b[0m\u001b[0m\n\u001b[1;32m      4\u001b[0m \u001b[0mdf\u001b[0m\u001b[0;34m.\u001b[0m\u001b[0mto_csv\u001b[0m\u001b[0;34m(\u001b[0m\u001b[0;34m'cnt_100_patients.csv'\u001b[0m\u001b[0;34m,\u001b[0m \u001b[0mheader\u001b[0m\u001b[0;34m=\u001b[0m\u001b[0;32mTrue\u001b[0m\u001b[0;34m,\u001b[0m  \u001b[0mindex\u001b[0m\u001b[0;34m=\u001b[0m\u001b[0;32mFalse\u001b[0m\u001b[0;34m)\u001b[0m\u001b[0;34m\u001b[0m\u001b[0;34m\u001b[0m\u001b[0m\n\u001b[1;32m      5\u001b[0m \u001b[0mprint\u001b[0m\u001b[0;34m(\u001b[0m\u001b[0;34mf'DONE! - record cnt {df.shape[0]}'\u001b[0m\u001b[0;34m)\u001b[0m\u001b[0;34m\u001b[0m\u001b[0;34m\u001b[0m\u001b[0m\n",
      "\u001b[0;31mAttributeError\u001b[0m: 'BogoPolicies' object has no attribute 'NUM_COHORTS'"
     ]
    }
   ],
   "source": [
    "\n",
    "bogo_env = BogoPolicies()\n",
    "print(f'n cohorts {bogo_env.NUM_COHORTS}')\n",
    "df = test_patient_run(bogo_env, bogo_env.standard_of_care_policy)\n",
    "df.to_csv('cnt_100_patients.csv', header=True,  index=False)\n",
    "print(f'DONE! - record cnt {df.shape[0]}')\n",
    "    "
   ]
  },
  {
   "cell_type": "code",
   "execution_count": 8,
   "metadata": {},
   "outputs": [
    {
     "data": {
      "text/plain": [
       "[<matplotlib.lines.Line2D at 0x7fd07cc42fd0>]"
      ]
     },
     "execution_count": 8,
     "metadata": {},
     "output_type": "execute_result"
    },
    {
     "data": {
      "image/png": "[encoded data removed]",
      "text/plain": [
       "<Figure size 432x288 with 1 Axes>"
      ]
     },
     "metadata": {
      "needs_background": "light"
     },
     "output_type": "display_data"
    }
   ],
   "source": [
    "import matplotlib.pyplot as plt\n",
    "\n",
    "xavg = df.groupby('cohort').mean()\n",
    "xavg.sort_values('drug', inplace=True)\n",
    "# xmax = df.groupby('cohort').max()\n",
    "# xmin = df.groupby('cohort').min()\n",
    "\n",
    "#plt.plot(xmax['drug'], xmax['reward'], color = 'black')\n",
    "plt.plot(xavg['drug'], xavg['reward'], color = 'red')\n",
    "# plt.plot(xmin['drug'], xmin['reward'], color = 'blue')"
   ]
  }
 ],
 "metadata": {
  "kernelspec": {
   "display_name": "nnet",
   "language": "python",
   "name": "python3"
  },
  "language_info": {
   "codemirror_mode": {
    "name": "ipython",
    "version": 3
   },
   "file_extension": ".py",
   "mimetype": "text/x-python",
   "name": "python",
   "nbconvert_exporter": "python",
   "pygments_lexer": "ipython3",
   "version": "3.9.5"
  },
  "orig_nbformat": 4
 },
 "nbformat": 4,
 "nbformat_minor": 2
}
