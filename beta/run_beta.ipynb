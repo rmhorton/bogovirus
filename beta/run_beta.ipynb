{
 "cells": [
  {
   "cell_type": "markdown",
   "metadata": {
    "application/vnd.databricks.v1+cell": {
     "cellMetadata": {
      "byteLimit": 2048000,
      "rowLimit": 10000
     },
     "inputWidgets": {},
     "nuid": "e7890ee9-b340-450f-a8fe-f52fd818ea8a",
     "showTitle": false,
     "title": ""
    }
   },
   "source": [
    "# Generate a simulation of a population by running envs_beta/BogoBetaEnv  environment\n",
    "\n",
    "A test of how to  run the envess_beta \n",
    "\n",
    "A 14 March 2023\n",
    "\n",
    "See also `generate_primary_sim.py`"
   ]
  },
  {
   "cell_type": "code",
   "execution_count": 0,
   "metadata": {
    "application/vnd.databricks.v1+cell": {
     "cellMetadata": {
      "byteLimit": 2048000,
      "rowLimit": 10000
     },
     "inputWidgets": {},
     "nuid": "211b1c92-1835-45e7-a3fb-7d528e29c831",
     "showTitle": false,
     "title": ""
    }
   },
   "outputs": [],
   "source": [
    "%reload_ext autoreload\n",
    "%autoreload 2\n",
    "import math, os, re, sys\n",
    "from pathlib import Path\n",
    "import pandas as pd\n",
    "import numpy as np\n",
    "\n",
    "sys.path.append('../RL_offline/envs_beta')\n",
    "from BogoPolicies import BogoPolicies"
   ]
  },
  {
   "cell_type": "code",
   "execution_count": 0,
   "metadata": {
    "application/vnd.databricks.v1+cell": {
     "cellMetadata": {
      "byteLimit": 2048000,
      "rowLimit": 10000
     },
     "inputWidgets": {},
     "nuid": "4dbdea44-8325-4ec1-925a-6080df02b308",
     "showTitle": false,
     "title": ""
    }
   },
   "outputs": [],
   "source": [
    "### Use this policy for test\n",
    "\n",
    "MAX_DOSE = 0.7 \n",
    "VERBOSE = 2\n",
    "PATIENTS = 1000\n",
    "# Moved to BogoPolicies.py\n",
    "# def randomized_const_policy(yesterday, today):  # default policy\n",
    "#     dose = BogoPolicies.my_rng.uniform(low=0, high=MAX_DOSE, size=1)[0]\n",
    "#     if VERBOSE: print(f'chohort dose: {dose:.3}')\n",
    "#     return dose\n",
    "   \n",
    "\n",
    "### a test run\n",
    "def test_patient_run(env, policy):\n",
    "    ''\n",
    "    record_df = pd.DataFrame()\n",
    "    for p in range(PATIENTS):\n",
    "        # Create a patient with a random Id. \n",
    "        the_patient = BogoPolicies.my_rng.integers(low=0, high=100000, size=1)[0]\n",
    "        observation, info = env.reset(id_serial= the_patient)\n",
    "        print('\\tpatient: ', the_patient)\n",
    "        for _ in range(BogoPolicies.MAX_DAYS):\n",
    "            observation, reward, terminated, info = env.step(policy)\n",
    "            if VERBOSE == 2: \n",
    "                print(env.today)\n",
    "            elif VERBOSE == 1:\n",
    "                print(f'i: {info} # obs: {env.get_observation()}, R: {reward}, end? {terminated}' )\n",
    "            else:\n",
    "                pass\n",
    "            if terminated:\n",
    "                break\n",
    "        episode_df, total_reward = env.close()\n",
    "        print(f'reward {total_reward}')\n",
    "        record_df = pd.concat([record_df, episode_df])\n",
    "    return record_df\n",
    "\n",
    "def run_stats(rdf):\n",
    "    'Extract the dose-respose curve from the patient episodes'\n",
    "    # For each patient run \n",
    "    print(rdf.groupby('patient_id').mean('dose'))\n",
    "    \n",
    "        \n"
   ]
  },
  {
   "cell_type": "code",
   "execution_count": 0,
   "metadata": {
    "application/vnd.databricks.v1+cell": {
     "cellMetadata": {
      "byteLimit": 2048000,
      "rowLimit": 10000
     },
     "inputWidgets": {},
     "nuid": "b824c5ff-7daa-43fe-8ef7-ca5f37902b70",
     "showTitle": false,
     "title": ""
    }
   },
   "outputs": [],
   "source": [
    "# All const policies test\n",
    "bogo_env = BogoPolicies()\n",
    "print(f'n cohorts {bogo_env.NUM_COHORTS}')\n",
    "df = test_patient_run(bogo_env, bogo_env.dose_cohort_policy)\n",
    "#df.to_csv('cohort_const.csv', header=True,  index=False)\n",
    "print(run_stats(df))\n",
    "print(f'DONE! - record cnt {df.shape[0]}')\n",
    "    "
   ]
  },
  {
   "cell_type": "code",
   "execution_count": 0,
   "metadata": {
    "application/vnd.databricks.v1+cell": {
     "cellMetadata": {
      "byteLimit": 2048000,
      "rowLimit": 10000
     },
     "inputWidgets": {},
     "nuid": "66825949-1d3c-43a3-bc7f-d8af486ff6e5",
     "showTitle": false,
     "title": ""
    }
   },
   "outputs": [],
   "source": [
    "import matplotlib.pyplot as plt\n",
    "\n",
    "xavg = df.groupby('cohort').mean()\n",
    "xavg.sort_values('drug', inplace=True)\n",
    "# xmax = df.groupby('cohort').max()\n",
    "# xmin = df.groupby('cohort').min()\n",
    "\n",
    "#plt.plot(xmax['drug'], xmax['reward'], color = 'black')\n",
    "plt.plot(xavg['drug'], xavg['reward'], color = 'red')\n",
    "# plt.plot(xmin['drug'], xmin['reward'], color = 'blue')"
   ]
  },
  {
   "cell_type": "code",
   "execution_count": 0,
   "metadata": {
    "application/vnd.databricks.v1+cell": {
     "cellMetadata": {
      "byteLimit": 2048000,
      "rowLimit": 10000
     },
     "inputWidgets": {},
     "nuid": "989e2071-05d6-469a-8b1e-dbb05f888656",
     "showTitle": false,
     "title": ""
    }
   },
   "outputs": [],
   "source": [
    "\n",
    "bogo_env = BogoPolicies()\n",
    "print(f'n cohorts {bogo_env.NUM_COHORTS}')\n",
    "df = test_patient_run(bogo_env, bogo_env.standard_of_care_policy)\n",
    "df.to_csv('cnt_100_patients.csv', header=True,  index=False)\n",
    "print(f'DONE! - record cnt {df.shape[0]}')\n",
    "    "
   ]
  },
  {
   "cell_type": "code",
   "execution_count": 0,
   "metadata": {
    "application/vnd.databricks.v1+cell": {
     "cellMetadata": {
      "byteLimit": 2048000,
      "rowLimit": 10000
     },
     "inputWidgets": {},
     "nuid": "e71a3932-e9f6-43cb-9c6a-701af2740dae",
     "showTitle": false,
     "title": ""
    }
   },
   "outputs": [],
   "source": [
    "import matplotlib.pyplot as plt\n",
    "\n",
    "xavg = df.groupby('cohort').mean()\n",
    "xavg.sort_values('drug', inplace=True)\n",
    "# xmax = df.groupby('cohort').max()\n",
    "# xmin = df.groupby('cohort').min()\n",
    "\n",
    "#plt.plot(xmax['drug'], xmax['reward'], color = 'black')\n",
    "plt.plot(xavg['drug'], xavg['reward'], color = 'red')\n",
    "# plt.plot(xmin['drug'], xmin['reward'], color = 'blue')"
   ]
  }
 ],
 "metadata": {
  "application/vnd.databricks.v1+notebook": {
   "dashboards": [],
   "language": "python",
   "notebookMetadata": {
    "pythonIndentUnit": 4
   },
   "notebookName": "run_beta",
   "notebookOrigID": 466268033606139,
   "widgets": {}
  },
  "kernelspec": {
   "display_name": "nnet",
   "language": "python",
   "name": "python3"
  },
  "language_info": {
   "codemirror_mode": {
    "name": "ipython",
    "version": 3
   },
   "file_extension": ".py",
   "mimetype": "text/x-python",
   "name": "python",
   "nbconvert_exporter": "python",
   "pygments_lexer": "ipython3",
   "version": "3.9.5"
  },
  "orig_nbformat": 4
 },
 "nbformat": 4,
 "nbformat_minor": 0
}
