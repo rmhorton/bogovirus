{
 "cells": [
  {
   "attachments": {},
   "cell_type": "markdown",
   "metadata": {},
   "source": [
    "# Generate a simulation of a population by running envs_beta/BogoBetaEnv  environment\n",
    "\n",
    "JMA 14 March 2023\n",
    "\n",
    "See also `generate_primary_sim.py`"
   ]
  },
  {
   "cell_type": "code",
   "execution_count": 19,
   "metadata": {},
   "outputs": [
    {
     "name": "stdout",
     "output_type": "stream",
     "text": [
      "/home/jma/repos/bogovirus/beta\n"
     ]
    }
   ],
   "source": [
    "import math, os, re, sys\n",
    "from pathlib import Path\n",
    "import pandas as pd\n",
    "import numpy as np\n",
    "\n",
    "sys.path.append('../RL_offline/')\n",
    "from beta_policies import BogoPolicies"
   ]
  },
  {
   "cell_type": "code",
   "execution_count": 20,
   "metadata": {},
   "outputs": [
    {
     "name": "stdout",
     "output_type": "stream",
     "text": [
      "\t {'Severity': 28}\n",
      "chohort dose: 0.0281\n",
      "{'patient_id': 60335, 'cohort': 0, 'day_number': 1, 'infection': 34, 'severity': 33.98448296285973, 'drug': 0.028058705949119644, 'cum_drug': 0.008554946086482693, 'efficacy': -1.5840463659756978, 'outcome': None, 'reward': -1}\n",
      "chohort dose: 0.263\n",
      "{'patient_id': 60335, 'cohort': 0, 'day_number': 2, 'infection': 43, 'severity': 42.655033879426824, 'drug': 0.2631798081557312, 'cum_drug': 0.09162293127470467, 'efficacy': 2.5167335065882543, 'outcome': None, 'reward': -1}\n",
      "chohort dose: 0.345\n",
      "{'patient_id': 60335, 'cohort': 0, 'day_number': 3, 'infection': 43, 'severity': 47.06041278065872, 'drug': 0.34521166271422943, 'cum_drug': 0.1664245075562072, 'efficacy': 4.462195252430085, 'outcome': None, 'reward': -1}\n",
      "chohort dose: 0.411\n",
      "{'patient_id': 60335, 'cohort': 0, 'day_number': 4, 'infection': 48, 'severity': 50.30489866361575, 'drug': 0.41104880056094684, 'cum_drug': 0.23847511114889003, 'efficacy': 5.737683604629668, 'outcome': None, 'reward': -1}\n",
      "chohort dose: 0.406\n",
      "{'patient_id': 60335, 'cohort': 0, 'day_number': 5, 'infection': 50, 'severity': 53.19182217135862, 'drug': 0.40635218096581505, 'cum_drug': 0.2881690301099577, 'efficacy': 5.130480272962849, 'outcome': None, 'reward': -1}\n",
      "chohort dose: 0.148\n",
      "{'patient_id': 60335, 'cohort': 0, 'day_number': 6, 'infection': 53, 'severity': 57.308883419918836, 'drug': 0.14803295199865493, 'cum_drug': 0.24562050753961495, 'efficacy': 1.4038604823092502, 'outcome': None, 'reward': -1}\n",
      "chohort dose: 0.0434\n",
      "{'patient_id': 60335, 'cohort': 0, 'day_number': 7, 'infection': 58, 'severity': 66.7751689563772, 'drug': 0.04343091997985736, 'cum_drug': 0.18607581342574492, 'efficacy': 1.2961719083454368, 'outcome': None, 'reward': -1}\n",
      "chohort dose: 0.175\n",
      "{'patient_id': 60335, 'cohort': 0, 'day_number': 8, 'infection': 65, 'severity': 76.84629573128066, 'drug': 0.17508946664557254, 'cum_drug': 0.18286849478688455, 'efficacy': 1.7314112758936648, 'outcome': None, 'reward': -1}\n",
      "chohort dose: 0.111\n",
      "{'patient_id': 60335, 'cohort': 0, 'day_number': 9, 'infection': 67, 'severity': 88.14631305346713, 'drug': 0.11138913609143479, 'cum_drug': 0.16261000355014887, 'efficacy': 2.4270811437411455, 'outcome': None, 'reward': -1}\n",
      "chohort dose: 0.651\n",
      "{'patient_id': 60335, 'cohort': 0, 'day_number': 10, 'infection': 68, 'severity': 98.4106347622454, 'drug': 0.6508613472137159, 'cum_drug': 0.30944873587938626, 'efficacy': 8.262661725237441, 'outcome': None, 'reward': -1}\n",
      "chohort dose: 0.0299\n",
      "{'patient_id': 60335, 'cohort': 0, 'day_number': 11, 'infection': 68, 'severity': 107.22529330555253, 'drug': 0.029926459339096854, 'cum_drug': 0.22476447377309736, 'efficacy': 1.0845752668773572, 'outcome': None, 'reward': -1}\n",
      "chohort dose: 0.00699\n",
      "{'patient_id': 60335, 'cohort': 0, 'day_number': 12, 'infection': 71, 'severity': 124.61536495025089, 'drug': 0.006987947527421756, 'cum_drug': 0.15563225597327277, 'efficacy': 0.9784318297684574, 'outcome': 'die', 'reward': -200}\n",
      "DONE! - reward -211\n"
     ]
    }
   ],
   "source": [
    "### Use this policy for test\n",
    "\n",
    "MAX_DOSE = 0.7 \n",
    "VERBOSE = True\n",
    "\n",
    "def randomized_const_policy(yesterday, today):  # default policy\n",
    "    dose = BogoPolicies.my_rng.uniform(low=0, high=MAX_DOSE, size=1)[0]\n",
    "    if VERBOSE: print(f'chohort dose: {dose:.3}')\n",
    "    return dose\n",
    "   \n",
    "\n",
    "### a test run\n",
    "def test_patient_run(env):\n",
    "    ''\n",
    "    # Create a patient with a random Id. \n",
    "    the_patient = BogoPolicies.my_rng.integers(low=0, high=100000, size=1)[0]\n",
    "    observation, info = env.reset(id_serial= the_patient)\n",
    "    print('\\t', observation)\n",
    "    for _ in range(BogoPolicies.MAX_DAYS):\n",
    "        observation, reward, terminated, info = env.step(randomized_const_policy)\n",
    "        if VERBOSE: \n",
    "            print(env.today)\n",
    "        else:\n",
    "            print(f'i: {info} # obs: {env.get_observation()}, R: {reward}, end? {terminated}' )\n",
    "        if terminated:\n",
    "            break\n",
    "\n",
    "\n",
    "bogo_env = BogoPolicies()\n",
    "test_patient_run(bogo_env)\n",
    "episode_df, total_reward = bogo_env.close()\n",
    "print(f'DONE! - reward {total_reward}')\n",
    "    \n"
   ]
  },
  {
   "cell_type": "code",
   "execution_count": null,
   "metadata": {},
   "outputs": [],
   "source": []
  }
 ],
 "metadata": {
  "kernelspec": {
   "display_name": "nnet",
   "language": "python",
   "name": "python3"
  },
  "language_info": {
   "codemirror_mode": {
    "name": "ipython",
    "version": 3
   },
   "file_extension": ".py",
   "mimetype": "text/x-python",
   "name": "python",
   "nbconvert_exporter": "python",
   "pygments_lexer": "ipython3",
   "version": "3.9.5"
  },
  "orig_nbformat": 4
 },
 "nbformat": 4,
 "nbformat_minor": 2
}
