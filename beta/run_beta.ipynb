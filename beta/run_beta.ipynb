{
 "cells": [
  {
   "attachments": {},
   "cell_type": "markdown",
   "metadata": {},
   "source": [
    "# Generate a simulation of a population by running envs_beta/BogoBetaEnv  environment\n",
    "\n",
    "JMA 14 March 2023\n",
    "\n",
    "See also `generate_primary_sim.py`"
   ]
  },
  {
   "cell_type": "code",
   "execution_count": 1,
   "metadata": {},
   "outputs": [
    {
     "name": "stdout",
     "output_type": "stream",
     "text": [
      "/home/jma/repos/bogovirus/beta\n"
     ]
    }
   ],
   "source": [
    "import math, os, re, sys\n",
    "from pathlib import Path\n",
    "import pandas as pd\n",
    "import numpy as np\n",
    "\n",
    "sys.path.append('../RL_offline/')\n",
    "from beta_policies import BogoPolicies"
   ]
  },
  {
   "cell_type": "code",
   "execution_count": 6,
   "metadata": {},
   "outputs": [
    {
     "name": "stdout",
     "output_type": "stream",
     "text": [
      "\t 93555\n",
      "{'patient_id': 93555, 'cohort': 0, 'day_number': 1, 'infection': 46, 'severity': 28.482948077399676, 'drug': 0.3, 'cum_drug': 0.08935597776639556, 'efficacy': 3.2986568120913358, 'outcome': None, 'reward': -1}\n",
      "{'patient_id': 93555, 'cohort': 0, 'day_number': 2, 'infection': 53, 'severity': 33.25491007878928, 'drug': 0.6, 'cum_drug': 0.23421016639027198, 'efficacy': 6.89551169247591, 'outcome': None, 'reward': -1}\n",
      "{'patient_id': 93555, 'cohort': 0, 'day_number': 3, 'infection': 54, 'severity': 34.24272485084991, 'drug': 0.6, 'cum_drug': 0.3412160253064296, 'efficacy': 7.080656415595466, 'outcome': None, 'reward': -1}\n",
      "{'patient_id': 93555, 'cohort': 0, 'day_number': 4, 'infection': 54, 'severity': 36.94805055343261, 'drug': 0.6, 'cum_drug': 0.4210437076460055, 'efficacy': 5.907765193878943, 'outcome': None, 'reward': -1}\n",
      "{'patient_id': 93555, 'cohort': 0, 'day_number': 5, 'infection': 54, 'severity': 41.767318898736775, 'drug': 0.6, 'cum_drug': 0.4782819039551828, 'efficacy': 4.734678631432931, 'outcome': None, 'reward': -1}\n",
      "{'patient_id': 93555, 'cohort': 0, 'day_number': 6, 'infection': 58, 'severity': 46.20798015707533, 'drug': 0.1, 'cum_drug': 0.3593783409664907, 'efficacy': 1.1774090953059995, 'outcome': None, 'reward': -1}\n",
      "{'patient_id': 93555, 'cohort': 0, 'day_number': 7, 'infection': 60, 'severity': 55.28374772626969, 'drug': 0.5, 'cum_drug': 0.4017472623962506, 'efficacy': 4.871328092881555, 'outcome': None, 'reward': -1}\n",
      "{'patient_id': 93555, 'cohort': 0, 'day_number': 8, 'infection': 67, 'severity': 61.527368667163735, 'drug': 1.1, 'cum_drug': 0.6198589993051273, 'efficacy': 5.754821971669641, 'outcome': None, 'reward': -1}\n",
      "{'patient_id': 93555, 'cohort': 0, 'day_number': 9, 'infection': 76, 'severity': 68.55641588176306, 'drug': 0.6, 'cum_drug': 0.6139163277883976, 'efficacy': 3.720856163474722, 'outcome': None, 'reward': -1}\n",
      "{'patient_id': 93555, 'cohort': 0, 'day_number': 10, 'infection': 85, 'severity': 78.30902198927656, 'drug': 1.6, 'cum_drug': 0.8876730342767639, 'efficacy': 1.2011878379756407, 'outcome': None, 'reward': -1}\n",
      "{'patient_id': 93555, 'cohort': 0, 'day_number': 11, 'infection': 94, 'severity': 93.36555935727581, 'drug': 1.5, 'cum_drug': 1.06590377656764, 'efficacy': 0.4514294127250961, 'outcome': None, 'reward': -1}\n",
      "{'patient_id': 93555, 'cohort': 0, 'day_number': 12, 'infection': 103, 'severity': 112.01373021079823, 'drug': 1.7, 'cum_drug': 1.2627857965715896, 'efficacy': -0.14879592193256197, 'outcome': 'recover', 'reward': 100}\n",
      "\t 31407\n",
      "{'patient_id': 31407, 'cohort': 0, 'day_number': 1, 'infection': 23, 'severity': 16.4805413159708, 'drug': 0.2, 'cum_drug': 0.062316247546226604, 'efficacy': 2.5740966928418616, 'outcome': None, 'reward': -1}\n",
      "{'patient_id': 31407, 'cohort': 0, 'day_number': 2, 'infection': 24, 'severity': 19.62989348508158, 'drug': 0.3, 'cum_drug': 0.13486636403753371, 'efficacy': 3.8628126976229415, 'outcome': None, 'reward': -1}\n",
      "{'patient_id': 31407, 'cohort': 0, 'day_number': 3, 'infection': 29, 'severity': 18.891626936512434, 'drug': 0.2, 'cum_drug': 0.1555208352773973, 'efficacy': 2.8164585246389287, 'outcome': None, 'reward': -1}\n",
      "{'patient_id': 31407, 'cohort': 0, 'day_number': 4, 'infection': 33, 'severity': 20.36748454096843, 'drug': 0.4, 'cum_drug': 0.2300305776793567, 'efficacy': 4.396895809443597, 'outcome': None, 'reward': -1}\n",
      "{'patient_id': 31407, 'cohort': 0, 'day_number': 5, 'infection': 34, 'severity': 22.700339441408325, 'drug': 0.0, 'cum_drug': 0.16010239847057126, 'efficacy': 0.26224258521119426, 'outcome': None, 'reward': -1}\n",
      "{'patient_id': 31407, 'cohort': 0, 'day_number': 6, 'infection': 36, 'severity': 28.50818986085813, 'drug': 0.0, 'cum_drug': 0.10795430270501231, 'efficacy': -0.2970279239230781, 'outcome': None, 'reward': -1}\n",
      "{'patient_id': 31407, 'cohort': 0, 'day_number': 7, 'infection': 44, 'severity': 35.84016111697887, 'drug': 0.1, 'cum_drug': 0.10545968118533168, 'efficacy': 0.6531686831546392, 'outcome': None, 'reward': -1}\n",
      "{'patient_id': 31407, 'cohort': 0, 'day_number': 8, 'infection': 45, 'severity': 43.18743228272668, 'drug': 0.2, 'cum_drug': 0.13315780039797298, 'efficacy': 2.667280539670943, 'outcome': None, 'reward': -1}\n",
      "{'patient_id': 31407, 'cohort': 0, 'day_number': 9, 'infection': 46, 'severity': 48.56840705921389, 'drug': 0.5, 'cum_drug': 0.24863630859836466, 'efficacy': 6.022561425587825, 'outcome': None, 'reward': -1}\n",
      "{'patient_id': 31407, 'cohort': 0, 'day_number': 10, 'infection': 55, 'severity': 51.64878404522176, 'drug': 0.6, 'cum_drug': 0.34988864667375374, 'efficacy': 6.425804579496305, 'outcome': None, 'reward': -1}\n",
      "{'patient_id': 31407, 'cohort': 0, 'day_number': 11, 'infection': 58, 'severity': 56.82304401048484, 'drug': 0.1, 'cum_drug': 0.27897544877116415, 'efficacy': 1.021083010406673, 'outcome': None, 'reward': -1}\n",
      "{'patient_id': 31407, 'cohort': 0, 'day_number': 12, 'infection': 63, 'severity': 68.74350963413939, 'drug': 0.0, 'cum_drug': 0.19524628389963058, 'efficacy': -0.10012074127785618, 'outcome': None, 'reward': -1}\n",
      "{'patient_id': 31407, 'cohort': 0, 'day_number': 13, 'infection': 70, 'severity': 81.500638614095, 'drug': 1.2, 'cum_drug': 0.49341452264223384, 'efficacy': 10.508219172364619, 'outcome': None, 'reward': -1}\n",
      "{'patient_id': 31407, 'cohort': 0, 'day_number': 14, 'infection': 77, 'severity': 87.2797341649308, 'drug': 1.6, 'cum_drug': 0.8313807098518042, 'efficacy': 1.7859042514152974, 'outcome': None, 'reward': -1}\n",
      "{'patient_id': 31407, 'cohort': 0, 'day_number': 15, 'infection': 78, 'severity': 102.18946427234145, 'drug': 1.8, 'cum_drug': 1.1052248362937904, 'efficacy': 0.3936778543042316, 'outcome': None, 'reward': -1}\n",
      "{'patient_id': 31407, 'cohort': 0, 'day_number': 16, 'infection': 84, 'severity': 118.86731283602948, 'drug': 1.0, 'cum_drug': 1.0729629683379254, 'efficacy': -0.33313902241066606, 'outcome': None, 'reward': -1}\n",
      "Out-of-range severity:138.361 is high\n",
      "{'patient_id': 31407, 'cohort': 0, 'day_number': 17, 'infection': 84, 'severity': 138.36080994938692, 'drug': 2.3, 'cum_drug': 1.4411677418222992, 'efficacy': -0.4965450646629911, 'outcome': 'die', 'reward': -200}\n",
      "DONE! - reward -216\n"
     ]
    }
   ],
   "source": [
    "### Use this policy for test\n",
    "\n",
    "MAX_DOSE = 0.7 \n",
    "VERBOSE = True\n",
    "\n",
    "# def randomized_const_policy(yesterday, today):  # default policy\n",
    "#     dose = BogoPolicies.my_rng.uniform(low=0, high=MAX_DOSE, size=1)[0]\n",
    "#     if VERBOSE: print(f'chohort dose: {dose:.3}')\n",
    "#     return dose\n",
    "   \n",
    "\n",
    "### a test run\n",
    "def test_patient_run(env):\n",
    "    ''\n",
    "    for p in range(2):\n",
    "        # Create a patient with a random Id. \n",
    "        the_patient = BogoPolicies.my_rng.integers(low=0, high=100000, size=1)[0]\n",
    "        observation, info = env.reset(id_serial= the_patient)\n",
    "        print('\\t', the_patient)\n",
    "        for _ in range(BogoPolicies.MAX_DAYS):\n",
    "                observation, reward, terminated, info = env.step(env.standard_of_care_policy)\n",
    "                if VERBOSE: \n",
    "                    print(env.today)\n",
    "                else:\n",
    "                    print(f'i: {info} # obs: {env.get_observation()}, R: {reward}, end? {terminated}' )\n",
    "                if terminated:\n",
    "                    break\n",
    "\n",
    "\n",
    "bogo_env = BogoPolicies()\n",
    "test_patient_run(bogo_env)\n",
    "episode_df, total_reward = bogo_env.close()\n",
    "print(f'DONE! - reward {total_reward}')\n",
    "    \n"
   ]
  },
  {
   "cell_type": "code",
   "execution_count": 9,
   "metadata": {},
   "outputs": [
    {
     "data": {
      "text/plain": [
       "1"
      ]
     },
     "execution_count": 9,
     "metadata": {},
     "output_type": "execute_result"
    }
   ],
   "source": [
    "bogo_env.NUM_COHORTS"
   ]
  }
 ],
 "metadata": {
  "kernelspec": {
   "display_name": "nnet",
   "language": "python",
   "name": "python3"
  },
  "language_info": {
   "codemirror_mode": {
    "name": "ipython",
    "version": 3
   },
   "file_extension": ".py",
   "mimetype": "text/x-python",
   "name": "python",
   "nbconvert_exporter": "python",
   "pygments_lexer": "ipython3",
   "version": "3.9.5"
  },
  "orig_nbformat": 4
 },
 "nbformat": 4,
 "nbformat_minor": 2
}
